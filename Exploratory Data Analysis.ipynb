{
 "cells": [
  {
   "cell_type": "markdown",
   "metadata": {},
   "source": [
    "# Explore the dataset\n",
    "\n",
    "\n",
    "In this notebook, we will perform an EDA (Exploratory Data Analysis) on the processed Waymo dataset (data in the `processed` folder). In the first part, you will create a function to display "
   ]
  },
  {
   "cell_type": "code",
   "execution_count": 2,
   "metadata": {},
   "outputs": [],
   "source": [
    "from utils import get_dataset\n",
    "import glob\n",
    "import matplotlib.pyplot as plt\n",
    "import matplotlib.patches as patches\n",
    "import numpy as np\n",
    "import tensorflow as tf\n",
    "\n",
    "%matplotlib inline"
   ]
  },
  {
   "cell_type": "code",
   "execution_count": 3,
   "metadata": {},
   "outputs": [
    {
     "name": "stdout",
     "output_type": "stream",
     "text": [
      "Exploratory Data Analysis.ipynb  \u001b[0m\u001b[01;34mdata\u001b[0m/               label_map.pbtxt\r\n",
      "Explore augmentations.ipynb      edit_config.py      \u001b[01;32mlaunch_jupyter.sh\u001b[0m*\r\n",
      "LICENSE.md                       \u001b[01;34mexperiments\u001b[0m/        pipeline.config\r\n",
      "README.md                        filenames.txt       utils.py\r\n",
      "\u001b[01;34m__pycache__\u001b[0m/                     inference_video.py\r\n"
     ]
    }
   ],
   "source": [
    "ls"
   ]
  },
  {
   "cell_type": "code",
   "execution_count": 4,
   "metadata": {},
   "outputs": [
    {
     "name": "stdout",
     "output_type": "stream",
     "text": [
      "INFO:tensorflow:Reading unweighted datasets: ['data/train/*.tfrecord']\n",
      "INFO:tensorflow:Reading record datasets for input file: ['data/train/*.tfrecord']\n",
      "INFO:tensorflow:Number of filenames to read: 86\n",
      "WARNING:tensorflow:From /data/virtual_envs/sdc-c1-gpu-augment/lib/python3.7/site-packages/object_detection/builders/dataset_builder.py:105: parallel_interleave (from tensorflow.python.data.experimental.ops.interleave_ops) is deprecated and will be removed in a future version.\n",
      "Instructions for updating:\n",
      "Use `tf.data.Dataset.interleave(map_func, cycle_length, block_length, num_parallel_calls=tf.data.experimental.AUTOTUNE)` instead. If sloppy execution is desired, use `tf.data.Options.experimental_deterministic`.\n",
      "WARNING:tensorflow:From /data/virtual_envs/sdc-c1-gpu-augment/lib/python3.7/site-packages/object_detection/builders/dataset_builder.py:237: DatasetV1.map_with_legacy_function (from tensorflow.python.data.ops.dataset_ops) is deprecated and will be removed in a future version.\n",
      "Instructions for updating:\n",
      "Use `tf.data.Dataset.map()\n"
     ]
    }
   ],
   "source": [
    "dataset = get_dataset(\"data/train/*.tfrecord\")"
   ]
  },
  {
   "cell_type": "markdown",
   "metadata": {},
   "source": [
    "## Write a function to display an image and the bounding boxes\n",
    "\n",
    "Implement the `display_images` function below. This function takes a batch as an input and display an image with its corresponding bounding boxes. The only requirement is that the classes should be color coded (eg, vehicles in red, pedestrians in blue, cyclist in green)."
   ]
  },
  {
   "cell_type": "code",
   "execution_count": 5,
   "metadata": {},
   "outputs": [
    {
     "name": "stdout",
     "output_type": "stream",
     "text": [
      "b'\\n\\x16image/object/bbox/xmin\\x12t\\x12r\\npV\\xa5\\xd5>\\xad\\xe8\\xce>F\\x8a;?\\x9c\\x9a\\xe1>\\xc7\\x8fU?\\xe5t\\xe3>`d\\x15?\\x94Y\\x11?~\\xb2\\x0e?4\\xb0\\xe9>\\xc0tC?\\xa1\\xf01?g)[?G)\\xbf>]\\x9dn?\\xa4\\xfb\\xe5>\\xe3\\x84\\xc1>k&\\x1a?\\xf7\\xfd\\x12?X\\x0eA?\\x13\\x95??xgn?Z<\\xee>_\\x1e\\xa3>\\x13$c?\\xe4\\xe8~?x\\xf0\\r?H\\xd8\\x1c?' 0\n"
     ]
    },
    {
     "data": {
      "text/plain": [
       "<Figure size 1800x1440 with 0 Axes>"
      ]
     },
     "metadata": {},
     "output_type": "display_data"
    }
   ],
   "source": [
    "# TODO - Your implementation here\n",
    " \n",
    "from waymo_open_dataset import dataset_pb2 as open_dataset \n",
    "FILENAME = 'data/train/segment-11219370372259322863_5320_000_5340_000_with_camera_labels.tfrecord'\n",
    "dataset = tf.data.TFRecordDataset(FILENAME, compression_type='')\n",
    "dataset_iter = dataset.as_numpy_iterator()\n",
    "\n",
    "data = next(dataset_iter)\n",
    "frame = open_dataset.Frame()\n",
    "frame.ParseFromString(data)\n",
    "print(frame.context.name, frame.timestamp_micros)\n",
    "\n",
    "FILTER_AVAILABLE = any(\n",
    "    [label.num_top_lidar_points_in_box > 0 for label in frame.laser_labels])\n",
    "#dataset = next(dataset_iter)\n",
    "#frame = \n",
    "\n",
    "##Visualize Images##\n",
    "\n",
    "def show_camera_images(camera_images,layout):\n",
    "        ax = plt.subplot(*layout)\n",
    "        plt.imshow(tf.images.code_jpeg(camera_image.image))\n",
    "        plt.title(open_dataset)\n",
    "        plt.grid(False)\n",
    "        plt.axis('off')\n",
    "        return ax\n",
    "plt.figure(figsize=(25,20))\n",
    "for index, image in enumerate(frame.images):\n",
    "        _ = show_camera_images(image,[3, 3, index + 1])\n",
    "                "
   ]
  },
  {
   "cell_type": "markdown",
   "metadata": {},
   "source": [
    "## Display 10 images \n",
    "\n",
    "Using the dataset created in the second cell and the function you just coded, display 10 random images with the associated bounding boxes. You can use the methods `take` and `shuffle` on the dataset."
   ]
  },
  {
   "cell_type": "code",
   "execution_count": 6,
   "metadata": {},
   "outputs": [
    {
     "data": {
      "text/plain": [
       "<Figure size 1800x1440 with 0 Axes>"
      ]
     },
     "metadata": {},
     "output_type": "display_data"
    }
   ],
   "source": [
    "# Display 10 random images in dataset\n",
    "plt.figure(figsize=(25,20))\n",
    "for index, image in enumerate(frame.images):\n",
    "        _ = show_camera_images(image,[1-10, index + 1])"
   ]
  },
  {
   "cell_type": "markdown",
   "metadata": {},
   "source": [
    "## Additional EDA\n",
    "\n",
    "In this last part, you are free to perform any additional analysis of the dataset. What else would like to know about the data?\n",
    "For example, think about data distribution. So far, you have only looked at a single file..."
   ]
  },
  {
   "cell_type": "code",
   "execution_count": 10,
   "metadata": {},
   "outputs": [
    {
     "ename": "SyntaxError",
     "evalue": "invalid syntax (<ipython-input-10-9ea1153f3ac1>, line 1)",
     "output_type": "error",
     "traceback": [
      "\u001b[0;36m  File \u001b[0;32m\"<ipython-input-10-9ea1153f3ac1>\"\u001b[0;36m, line \u001b[0;32m1\u001b[0m\n\u001b[0;31m    cd 'experiments/pretrained_model'\u001b[0m\n\u001b[0m                                    ^\u001b[0m\n\u001b[0;31mSyntaxError\u001b[0m\u001b[0;31m:\u001b[0m invalid syntax\n"
     ]
    }
   ],
   "source": []
  }
 ],
 "metadata": {
  "kernelspec": {
   "display_name": "Python 3",
   "language": "python",
   "name": "python3"
  },
  "language_info": {
   "codemirror_mode": {
    "name": "ipython",
    "version": 3
   },
   "file_extension": ".py",
   "mimetype": "text/x-python",
   "name": "python",
   "nbconvert_exporter": "python",
   "pygments_lexer": "ipython3",
   "version": "3.7.3"
  }
 },
 "nbformat": 4,
 "nbformat_minor": 4
}
